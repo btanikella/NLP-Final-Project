{
 "metadata": {
  "name": "",
  "signature": "sha256:a113eea7e12baab1abbc32b6260bdc2f3b07669caa900d4635f52f793df65a5c"
 },
 "nbformat": 3,
 "nbformat_minor": 0,
 "worksheets": [
  {
   "cells": [
    {
     "cell_type": "markdown",
     "metadata": {},
     "source": [
      "#Sentiment Analysis with Structural Features\n",
      "###Rohit Pathak, Bharadwaj Tanikella\n",
      "We train a classifier with features extracted from a RST parse tree to perform sentiment analysis on user reviews. All features and the intuition behind them are discussed along the way.\n"
     ]
    },
    {
     "cell_type": "code",
     "collapsed": false,
     "input": [
      "# Helper methods and miscellaneous stuff to clean up text\n",
      "from HTMLParser import HTMLParser\n",
      "\n",
      "class MLStripper(HTMLParser):\n",
      "    def __init__(self):\n",
      "        self.reset()\n",
      "        self.fed = []\n",
      "    def handle_data(self, d):\n",
      "        self.fed.append(d)\n",
      "    def get_data(self):\n",
      "        return ''.join(self.fed)\n",
      "\n",
      "stripper = MLStripper() # ;)\n",
      "def strip_tags(html):\n",
      "    stripper.feed(html)\n",
      "    return stripper.get_data()"
     ],
     "language": "python",
     "metadata": {},
     "outputs": [],
     "prompt_number": 1
    },
    {
     "cell_type": "code",
     "collapsed": false,
     "input": [
      "import nltk\n",
      "from sklearn.linear_model import Perceptron\n",
      "from nltk.classify.scikitlearn import SklearnClassifier\n",
      "from nltk import NaiveBayesClassifier\n",
      "from nltk.classify import apply_features\n",
      "from nltk.tokenize import sent_tokenize, word_tokenize\n",
      "from nltk.corpus import stopwords\n",
      "from collections import defaultdict, Counter\n",
      "import sys\n",
      "sys.path.insert(0,'../RSTParser')\n",
      "\n",
      "import subParseTree\n"
     ],
     "language": "python",
     "metadata": {},
     "outputs": [],
     "prompt_number": 2
    },
    {
     "cell_type": "markdown",
     "metadata": {},
     "source": [
      "The Feature Extractor object computes features for a document."
     ]
    },
    {
     "cell_type": "code",
     "collapsed": false,
     "input": [
      "class FeatureExtractor():\n",
      "    \n",
      "    def __init__(self,):\n",
      "        self.features = {}\n",
      "    \n",
      "    def bow_features(self, text):\n",
      "        w = Counter()\n",
      "        for sent in sent_tokenize(text.decode(\"utf8\")):\n",
      "            words = word_tokenize(sent)\n",
      "            w.update(words)\n",
      "        feats = { ('BOW', word) : val for word,val in w.items() } \n",
      "        return feats\n",
      "            \n",
      "    # TODO: Add RST features here\n",
      "    def rst_features(self, fileName):\n",
      "        NodeList = subParseTree.getParseTreeList(fileName)\n",
      "        NodeList.reverse()\n",
      "#         for node in NodeList:\n",
      "#             if node.prop == 'Nucleus':\n",
      "#                 print node.text\n",
      "#                 print node.prop\n",
      "#                 break\n",
      "        \n",
      "    \n",
      "    def extract(self, review, fileName):\n",
      "        text = strip_tags(review)\n",
      "        features = self.bow_features(text)\n",
      "        self.rst_features(fileName)\n",
      "        return features"
     ],
     "language": "python",
     "metadata": {},
     "outputs": [],
     "prompt_number": 3
    },
    {
     "cell_type": "markdown",
     "metadata": {},
     "source": [
      "Our dataset contains 50k imdb reviews. Currently we are training a Naive Bayes Classifier with 50 random reviews and testing the accuracy on 50 other randomly selected reviews. The classification task is binary - each review is either POSitive or NEGagive.  "
     ]
    },
    {
     "cell_type": "code",
     "collapsed": false,
     "input": [
      "import os\n",
      "import random\n",
      "\n",
      "DATA_DIR = 'data_sample/'\n",
      "train_files = {'pos': [DATA_DIR + 'train/pos/' + f for f in os.listdir(DATA_DIR+'train/pos/') if 'edus' in f], \n",
      "               'neg': [DATA_DIR + 'train/neg/' + f for f in os.listdir(DATA_DIR+'train/neg/') if 'edus' in f]}\n",
      "test_files = {'pos': [DATA_DIR + 'test/pos/' + f for f in os.listdir(DATA_DIR+'test/pos/') if 'edus' in f], \n",
      "               'neg': [DATA_DIR + 'test/neg/' + f for f in os.listdir(DATA_DIR+'test/neg/') if 'edus' in f]}\n",
      "\n",
      "fet = FeatureExtractor()\n",
      "\n",
      "def generate_labelled_data( files ):\n",
      "    data = []\n",
      "    for filename in (files):\n",
      "        label = 'pos' if 'pos' in filename else 'neg'\n",
      "        f = open(filename, 'r')\n",
      "        review = f.read()\n",
      "        f.close()\n",
      "        data.append( (fet.extract(review, filename), label) )\n",
      "        print filename, label.upper(), ' | ',\n",
      "    return data"
     ],
     "language": "python",
     "metadata": {},
     "outputs": [],
     "prompt_number": 4
    },
    {
     "cell_type": "code",
     "collapsed": false,
     "input": [
      "# Generating training set\n",
      "train_set = generate_labelled_data(train_files['pos'] + train_files['neg'])"
     ],
     "language": "python",
     "metadata": {},
     "outputs": [
      {
       "output_type": "stream",
       "stream": "stdout",
       "text": [
        "Load model from file: parsing-model.pickle.gz\n",
        "    However, as a fan-based production I have to give it an excellent rating as with the exception with a few other efforts, this is in a league of its own.     For sheer volume, I don't think this has been matched.     Congratulations to the cast and crew for an effort that many admire.\n",
        "Nucleus\n",
        "data_sample/train/pos/11228_10.edus POS  |  "
       ]
      },
      {
       "output_type": "stream",
       "stream": "stdout",
       "text": [
        "Load model from file: parsing-model.pickle.gz\n",
        "    This movie made me laugh from the beginning to the end.     Chris Rock is funny no matter which movie he is in.     However, this should come real close to being his greatest.     If ur lookin for a family movie, ie pre-teens and up then this is one u can't pass over.\n",
        "Nucleus\n",
        "data_sample/train/pos/11690_9.edus POS  |  "
       ]
      },
      {
       "output_type": "stream",
       "stream": "stdout",
       "text": [
        "Load model from file: parsing-model.pickle.gz\n",
        "    I liked it so much that I watched it twice in two days!!     So once again thank you BBC for another quality piece of television.     I have seen the Paltrow version and it is okay but I do think the BBC version is far superior.     An excellent production that I am very happy to own on DVD!!     !\n",
        "Nucleus\n",
        "data_sample/train/pos/12246_9.edus POS  |  "
       ]
      },
      {
       "output_type": "stream",
       "stream": "stdout",
       "text": [
        "Load model from file: parsing-model.pickle.gz\n",
        "    My vote is ten.<br /><br />Title (Brazil): \"Dan\u00e7a Comigo?\"\n",
        "Nucleus\n",
        "data_sample/train/pos/2155_10.edus POS  |  "
       ]
      },
      {
       "output_type": "stream",
       "stream": "stdout",
       "text": [
        "Load model from file: parsing-model.pickle.gz\n",
        "    \"<br /><br />This Pinnocioesque story of Cambell trying to be his own ideal hero and unwittingly becoming his ideal tragic villian is a mature and vivid look into what we are as people.     And aside from that, it is one of the most deeply romantic films I have ever come across.     Cambell is the incarnation of both foolish and wise love.     And at the films sastifyingly painful conclusion, he finally learns what it means to be a real boy as his Blue Fairy Godmother grants him his wish.     And he realizes that...well, watch the movie and you'll see.<br /><br />Mother Night is without a doubt in my mind one of the best films ever made.     It is a beautiful poetic story that digs deep within our emotions and is completely faithful to its original author.\n",
        "Nucleus\n",
        "data_sample/train/pos/2278_10.edus POS  |  "
       ]
      },
      {
       "output_type": "stream",
       "stream": "stdout",
       "text": [
        "Load model from file: parsing-model.pickle.gz\n",
        "    When she finally meets up with her daughter years later, the thought of taking care of her child is petrifying; she knows this is her chance to atone for her failures, but how can she be honest with her daughter and still gain her respect?<br /><br />Gillian Armstrong's films usually relate stories about characters who desperately want to communicate with each other, but face obstacles set up by their own personal habits and addictions.     \"Oscar and Lucinda,\" for instance, was about a man and a woman who desperately needed each other's love but were always blindsided by their craving for chance, represented by their gambling addictions.     Here, we are immersed in the world of a family torn apart by the mother's inability to commit to a settled life and her struggles to redeem herself despite being fully convinced that it's too late to change for the better.     This is not simply a film with a great performance at its center, but also a rare achievement: a fully convincing story of redemption.\n",
        "Nucleus\n",
        "data_sample/train/pos/2956_8.edus POS  |  "
       ]
      },
      {
       "output_type": "stream",
       "stream": "stdout",
       "text": [
        "Load model from file: parsing-model.pickle.gz\n",
        "    This clever, witty, well-acted film could very well stand on its own - but as a parody of the gangster genre, it's truly outstanding.\n",
        "Nucleus\n",
        "data_sample/train/pos/4698_10.edus POS  |  "
       ]
      },
      {
       "output_type": "stream",
       "stream": "stdout",
       "text": [
        "Load model from file: parsing-model.pickle.gz\n",
        "    did for classic cartoons.     That should give you a more accurate idea of the tone of the movie then the marketing commitee it was unfortunately signed to (this is one of those cases like \"the Iron Giant\" where the studio had no clue what it had on it's hands).     Rent it the next time you're in the mood for something a little offbeat.     You won't listen to the BeeGees in the same light ever again.\n",
        "Nucleus\n",
        "data_sample/train/pos/6674_9.edus POS  |  "
       ]
      },
      {
       "output_type": "stream",
       "stream": "stdout",
       "text": [
        "Load model from file: parsing-model.pickle.gz\n",
        "    One day, Jennifer sees one of her attackers on the street in S.F.     ; she buys a pistol, follows him to a bar, lets him pick her up, then when they're alone in his Cadillac, beginning to make love, she shoots him....once in the genitals, once in the brain - - this in the opening scene!!     Ya gotta love this spunky lady.     She's got her priorities straight.     Plus, Jennifer is a professional artist, putting all her anger on canvas UNTIL NOW.     After executing her first perp, Jennifer curiously watches Det.     Insp.     Harry Callahan process the fresh crime scene after the body is found in the Caddy.     Then, she insults some creepy teenage bucks who are hassling women on the street, visits her sister in a nursing home, then goes a'hunting in San Paolo, CA \"up the coast\" where the rape event took place years ago.     With more bullets in her suitcase and more resolve in her mind, our heroine relives the rape inside her head with vivid recall, as she comes closer to executing each subsequent rapist.     Not uncommon to us right- wingers, when it comes to sentencing or executing a violent criminal, don't be sorrowful for his own wretched humanity, we REMEMBER the CRIME and the SUFFERING he inflicted.     Such recalled events steels Jennifer to pull the trigger on each of her attackers - once in the genitals, once in the brain.     Throughout the movie, scenes of Jennifer's revenge are interspersed with good, IL' Dirty Harry blowing away some gangstas in a coffee shop, remember \"Go ahead.     MAKE my day.\"?     Later on, he threatens to step on a punk kid (who'd just insulted Callahan) in a courthouse elevator like he'd step on dog- s**t....leaving a young female govt employee staring after Clint as if to say \"I want to have your baby.\"     My favorite scene is only about 30 minutes into the action, when Harry threatens and frightens a murderous Mafia boss named Threlkis into a fatal coronary during his granddaughter's wedding reception at the Mark Hopkins hotel.     Michael Grazzo (Pantangeli in Godfather II) does a wonderful job as the sinful Mafia Don, even if he's only in one scene, dying in a most-convincing manner.     However, Harry's troubles aren't over with yet!     The elevator punk's gang AND Threlkis' henchmen each attempt to assassinate Harry in two close-ordered scenes, and most of them bad guys end up dying horribly.     Yup, some of the gun-play comes off as uninspired screen violence....looking like Clint the Director may have been tired that day of shooting this movie.     But, there's only so many ways you can dispatch a man with bullets.     The punk kids die much more creatively, though, as they both burn to death and drown in S.F.     Bay.     Warms my heart.     With so much violent intent directed at Insp.     Callahan, his bosses send him to San Paolo to try to get some background on the \"22 caliber vasectomy killing\" as Jennifer Spencer's crime is now known, but not before Harry delivers one of his famous sermons-to-the- chowder-headed-liberals.     Love that Harry.     While our hero' up annoying the local cops and citizens in San Paolo, two more murders happen, same M.O., on a sleazy, lazy fisherman and on an equally-creepy hardware entrepreneur.     Then Harry meets Jennifer!     They find they both agree on subjects such as Law and Order, Making the Guilty Pay, etc.     Could a hot, love scene be in the offing soon?     We're led to believe just that.     Characters abound in this Real-Man meets Real-Woman crime drama, and we get to meet a brassy bull-dyke named Raye Parkins who's both irritating and entertaining.     Raye set up Jennifer's rape for her \"boyfriend\" years before, and she'll get hers eventually.     The San Paolo Police Chief, played by reliable Eastwood co-star Pat Hingle (the Hanging Judge in 'Hang Em High'), is strangely at odds with Callahan's detective work related to the 22-cal vasectomies, until we find out that his own adolescent son was one of the gang of rapists.     Much like Jennifer's sister, Chief Janning's son is now a comatose adult, but driven mad by guilt.     It can't end here, though.     The dyke's rapist boyfriend, Mick, now a kinky-sex jerk of a criminal, drives in from Vegas becuz Raye's dropped a dime on Jennifer, summoning him up to San Paolo to prevent more executions.     Mick sleeps at Raye's house, but his timing is all wrong, and he's arrested before he can spend more time with Raye, mostly due to the fact that she's since been sent to the Island of the Eternal Lesboes by a shot from Jennifer's revolver.     Psycho Mick makes bail at long last, with Jennifer gunning for him.     A desperate chase ensues, as Harry tries to keep these two from killing each other.     It all turns out well in the end, with the good gal and the good guy walking off into the sunset together to a beautiful Roberta Flack blues song.\n",
        "Nucleus\n",
        "data_sample/train/pos/8193_10.edus POS  |  "
       ]
      },
      {
       "output_type": "stream",
       "stream": "stdout",
       "text": [
        "Load model from file: parsing-model.pickle.gz\n",
        "    Peaches is a brave, bold and courageous departure.     For me it works on every level and I have now seen it twice.     Monahan is a filmmaker who is demonstrating great skill and incredible sensitivity.     For 'Auscrit' to make the comment that it is another TV movie etc and that Hugo Weaving is no good simply does not 'get' the film.     Or more particularly does not want to get it.     Frankly it is the sort of comment that one expects from either another filmmaker who is jealous or bitter or both.     Or someone from inside the industry either distribution, exhibition or bureaucracy.     Your average punter, I have found just does not write comments like that.     I have noticed other comments on the site and reference to the film Sommersault.     One has to wonder what people think they are looking at.     Unfortunately in Australia at the time SS was released the push was, if you did not like it then there was something wrong with you not the film.     This manipulation of the media is pretty common down under.     The reality is the only similarity between the two films are that they are rights of passage films.     Unfortunately for me SS is a film about nothing, that could have been told in 15 minutes.     I see it as a one dimensional film about anxiety.     Peaches in comparison is a master piece.     Personally I cannot wait to what Monahan does next as he is clearly way ahead of any of his contemporaries when it comes to cinema.     In conclusion if the film does not win all at this years AFI's and IF awards, then it is a rigged game.     As for Auscrit, please find something more constructive do with your time\n",
        "Nucleus\n",
        "data_sample/train/pos/9782_10.edus POS  |  "
       ]
      },
      {
       "output_type": "stream",
       "stream": "stdout",
       "text": [
        "Load model from file: parsing-model.pickle.gz\n",
        "    The story is phenomenal and so original, with Simon the young son of a wizard having to flee from his beloved kingdom after the evil magician Shurka takes over the power and killed the king.     Simon wants to go back and save the people, but therefore he needs his powerful ring which he lost during his escape.     Simon befriends lone warrior Kor (the usually cool dude Bo Svenson who clearly needed the pay check), who assists Simon during the long and devastating journey full of ordeals, dangerous encounters and magical showdowns.     Admittedly it doesn't even sound too bad thus far, but that's merely just because I excluded all the deliciously inept little details.     Simon has a best friend named Gulfax, for example.     Gulfax is an albino version of Chewbacca and evokes incontrollable chuckles whenever he opens his poodle-snout to yelp something incomprehensible.     The obstacles during journey back home are hilariously irrelevant to the \"plot\" and simply serve as padding footage to cover up the lack of actual content.     Simon has nightmarish visions inside the tent of a suspicious forest nymph, Kor settles an old score with the pig-faced nemesis whose sister he refused to marry and there's the supposedly horrible 'suicide cave' where you can only sing your way out of.     But the absolute most unequally brilliant sequence \u0096 not just of this film alone but in the history of cinema \u0096 involves the resurrection of four zombie warriors.     Simon awakes the legendary courageous warriors, hoping they will assist them in their battle, but the rotting corpses only take a few steps, complain about how tired they are and return back to their graves.     That's it!     So much for the zombie sub plot!     Best sequence ever!     I could go on listing unintentionally hilarious little details for several more paragraphs, but you get the idea.     \"Wizards of the Lost Kingdom\" is a tremendously messed-up \"so-bad-it's-good\" film.     Word of advice: do not watch this joyful piece of junk alone.     Invite friends, preferably the dope-headed types with a wicked sense of humor, and watch it in group.     It will be a night to remember\u0085",
        "\n",
        "Nucleus\n",
        "data_sample/train/neg/1815_2.edus NEG  |  "
       ]
      },
      {
       "output_type": "stream",
       "stream": "stdout",
       "text": [
        "Load model from file: parsing-model.pickle.gz\n",
        "    It could be made better, but that would mean extra work.\n",
        "Nucleus\n",
        "data_sample/train/neg/1849_1.edus NEG  |  "
       ]
      },
      {
       "output_type": "stream",
       "stream": "stdout",
       "text": [
        "Load model from file: parsing-model.pickle.gz\n",
        "    Also Will Smith kills himself with a jellyfish at the ended proving that killing yourself with a jellyfish is the stupidest way to die.\n",
        "Nucleus\n",
        "data_sample/train/neg/2118_1.edus NEG  |  "
       ]
      },
      {
       "output_type": "stream",
       "stream": "stdout",
       "text": [
        "Load model from file: parsing-model.pickle.gz\n",
        "    The focus in the movie is on the insignificant events instead of the more interesting overall plot of the comic book.<br /><br />With the right people working on this project, it could have been amazing.     Sadly, it wasn't that way, so now there is yet another terrible movie that few will see and even fewer will love.     My copy will surely collect dust for years until I finally throw it out.\n",
        "Nucleus\n",
        "data_sample/train/neg/3212_3.edus NEG  |  "
       ]
      },
      {
       "output_type": "stream",
       "stream": "stdout",
       "text": [
        "Load model from file: parsing-model.pickle.gz\n",
        "    Roy Rogers also appears- in a singing role.     In my view only worth watching if you are a Frances Farmer fan, and possibly a Bing Crosby fan.\n",
        "Nucleus\n",
        "data_sample/train/neg/4400_4.edus NEG  |  "
       ]
      },
      {
       "output_type": "stream",
       "stream": "stdout",
       "text": [
        "Load model from file: parsing-model.pickle.gz\n",
        "    And one thing she touched twice made her vision continue... Just seemed so ridiculous.     Deedee Pfieffer's performance was awful I thought.     She was very irritating.     The girl who played Lori did a good job and so did most of the supporting cast for what they had to work with.<br /><br />I usually love LMN and am very open minded when it comes to movies but this movie seemed to have a ridiculous plot and over the top acting and it just was not for me.\n",
        "Nucleus\n",
        "data_sample/train/neg/80_3.edus NEG  |  "
       ]
      },
      {
       "output_type": "stream",
       "stream": "stdout",
       "text": [
        "Load model from file: parsing-model.pickle.gz\n",
        "    They try and turn a Christmas movie, into some new-style.     Sort of bad, mixed with good, but it all turned out very wrong.     The first ten or so minutes weren't too bad, but once we saw Santa, it was over.     It didn't get any better, the rate stayed the same, there was NO character development, and certainly is one of the worst Christmas movies ever invented.     Don't watch it, whatever you do.\n",
        "Nucleus\n",
        "data_sample/train/neg/8185_2.edus NEG  |  "
       ]
      },
      {
       "output_type": "stream",
       "stream": "stdout",
       "text": [
        "Load model from file: parsing-model.pickle.gz\n",
        "    The French cinema, in general, has the ability of showing something that seems quite much to life, opposed to the more stereotyped American cinema.     But, because of that, it is much more disappointing to see after the absurd ending, with the impossible death of the boy, the charming tone, the happiness of the executive's family, the cheap moral, the unbearable laughter of the daughters, the guy waving from heaven as Michael Landon... Really nasty, in my humble opinion.\n",
        "Nucleus\n",
        "data_sample/train/neg/873_1.edus NEG  |  "
       ]
      },
      {
       "output_type": "stream",
       "stream": "stdout",
       "text": [
        "Load model from file: parsing-model.pickle.gz\n",
        "    And the cast, composed of ham actors and actresses?     Honestly, I do not know what or who is the worst in this film: the screenplay, the director or the cast.     The correct answer certainly is all of them.     I saw this flick on cable television, and I am astonished how can a producer spend money in such a garbage.     This horror movie becomes very funny considering the absurd of the plot.     My vote is three.<br /><br />Title (Brazil): `Dem\u00f4nio' (`Devil')\n",
        "Nucleus\n",
        "data_sample/train/neg/9481_3.edus NEG  |  "
       ]
      },
      {
       "output_type": "stream",
       "stream": "stdout",
       "text": [
        "Load model from file: parsing-model.pickle.gz\n",
        "    However the film does not stand up to the most minor logical analysis.     Why does Keitel tie Diaz's hand in front of her instead of behind?     Why so she can do the chainsaw gag of course.     For me the best part of this movie was that I saw it on a cable channel instead of spending four bucks at the video shop.\n",
        "Nucleus\n",
        "data_sample/train/neg/9986_2.edus NEG  | \n"
       ]
      }
     ],
     "prompt_number": 5
    },
    {
     "cell_type": "code",
     "collapsed": false,
     "input": [
      "# Generating test set\n",
      "test_set = generate_labelled_data(test_files['pos'] + test_files['neg'])"
     ],
     "language": "python",
     "metadata": {},
     "outputs": [
      {
       "output_type": "stream",
       "stream": "stdout",
       "text": [
        "data_sample/test/pos/11228_10.edus POS  |  "
       ]
      },
      {
       "output_type": "stream",
       "stream": "stdout",
       "text": [
        "data_sample/test/pos/11690_9.edus POS  |  "
       ]
      },
      {
       "output_type": "stream",
       "stream": "stdout",
       "text": [
        "data_sample/test/pos/12246_9.edus POS  |  "
       ]
      },
      {
       "output_type": "stream",
       "stream": "stdout",
       "text": [
        "data_sample/test/pos/2155_10.edus POS  |  "
       ]
      },
      {
       "output_type": "stream",
       "stream": "stdout",
       "text": [
        "data_sample/test/pos/2278_10.edus POS  |  "
       ]
      },
      {
       "output_type": "stream",
       "stream": "stdout",
       "text": [
        "data_sample/test/pos/2956_8.edus POS  |  "
       ]
      },
      {
       "output_type": "stream",
       "stream": "stdout",
       "text": [
        "data_sample/test/pos/4698_10.edus POS  |  "
       ]
      },
      {
       "output_type": "stream",
       "stream": "stdout",
       "text": [
        "data_sample/test/pos/6674_9.edus POS  |  "
       ]
      },
      {
       "output_type": "stream",
       "stream": "stdout",
       "text": [
        "data_sample/test/pos/8193_10.edus POS  |  "
       ]
      },
      {
       "output_type": "stream",
       "stream": "stdout",
       "text": [
        "data_sample/test/pos/9782_10.edus POS  |  "
       ]
      },
      {
       "output_type": "stream",
       "stream": "stdout",
       "text": [
        "data_sample/test/neg/1815_2.edus NEG  |  "
       ]
      },
      {
       "output_type": "stream",
       "stream": "stdout",
       "text": [
        "data_sample/test/neg/1849_1.edus NEG  |  "
       ]
      },
      {
       "output_type": "stream",
       "stream": "stdout",
       "text": [
        "data_sample/test/neg/2118_1.edus NEG  |  "
       ]
      },
      {
       "output_type": "stream",
       "stream": "stdout",
       "text": [
        "data_sample/test/neg/3212_3.edus NEG  |  "
       ]
      },
      {
       "output_type": "stream",
       "stream": "stdout",
       "text": [
        "data_sample/test/neg/4400_4.edus NEG  |  "
       ]
      },
      {
       "output_type": "stream",
       "stream": "stdout",
       "text": [
        "data_sample/test/neg/80_3.edus NEG  |  "
       ]
      },
      {
       "output_type": "stream",
       "stream": "stdout",
       "text": [
        "data_sample/test/neg/8185_2.edus NEG  |  "
       ]
      },
      {
       "output_type": "stream",
       "stream": "stdout",
       "text": [
        "data_sample/test/neg/873_1.edus NEG  |  "
       ]
      },
      {
       "output_type": "stream",
       "stream": "stdout",
       "text": [
        "data_sample/test/neg/9481_3.edus NEG  |  "
       ]
      },
      {
       "output_type": "stream",
       "stream": "stdout",
       "text": [
        "data_sample/test/neg/9986_2.edus NEG  | \n"
       ]
      }
     ],
     "prompt_number": 17
    },
    {
     "cell_type": "markdown",
     "metadata": {},
     "source": [
      "##Training a classifier"
     ]
    },
    {
     "cell_type": "code",
     "collapsed": false,
     "input": [
      "classifier = NaiveBayesClassifier.train(train_set)"
     ],
     "language": "python",
     "metadata": {},
     "outputs": [],
     "prompt_number": 18
    },
    {
     "cell_type": "markdown",
     "metadata": {},
     "source": [
      "##Accuracy\n",
      "[We will test the accuracy of our classifier incrementally. But for now, it's pretty direct.]"
     ]
    }
   ],
   "metadata": {}
  }
 ]
}