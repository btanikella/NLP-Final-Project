{
 "metadata": {
  "name": "",
  "signature": "sha256:9f0e53ad9b519c4c36d18d10a8e2d0395cd3a123ce97ccac4c9de440d611a55d"
 },
 "nbformat": 3,
 "nbformat_minor": 0,
 "worksheets": [
  {
   "cells": [
    {
     "cell_type": "markdown",
     "metadata": {},
     "source": [
      "#Sentiment Analysis with Structural Features\n",
      "###Rohit Pathak, Bharadwaj Tanikella\n",
      "We train a classifier with features extracted from a RST parse tree to perform sentiment analysis on user reviews. All features and the intuition behind them are discussed along the way.\n"
     ]
    },
    {
     "cell_type": "code",
     "collapsed": false,
     "input": [
      "# Helper methods and miscellaneous stuff to clean up text\n",
      "from HTMLParser import HTMLParser\n",
      "\n",
      "class MLStripper(HTMLParser):\n",
      "    def __init__(self):\n",
      "        self.reset()\n",
      "        self.fed = []\n",
      "    def handle_data(self, d):\n",
      "        self.fed.append(d)\n",
      "    def get_data(self):\n",
      "        return ''.join(self.fed)\n",
      "\n",
      "stripper = MLStripper() # ;)\n",
      "def strip_tags(html):\n",
      "    stripper.feed(html)\n",
      "    return stripper.get_data()"
     ],
     "language": "python",
     "metadata": {},
     "outputs": [],
     "prompt_number": 159
    },
    {
     "cell_type": "code",
     "collapsed": false,
     "input": [
      "import nltk\n",
      "from sklearn.linear_model import Perceptron\n",
      "from nltk.classify.scikitlearn import SklearnClassifier\n",
      "from nltk import NaiveBayesClassifier\n",
      "from nltk.classify import apply_features\n",
      "from nltk.tokenize import sent_tokenize, word_tokenize\n",
      "from nltk.corpus import stopwords\n",
      "from collections import defaultdict, Counter\n",
      "import sys\n",
      "sys.path.insert(0,'../RSTParser')\n",
      "\n",
      "import subParseTree\n"
     ],
     "language": "python",
     "metadata": {},
     "outputs": [],
     "prompt_number": 160
    },
    {
     "cell_type": "code",
     "collapsed": false,
     "input": [
      "poswords = set()\n",
      "negwords = set()\n",
      "with open('sentiment-vocab.tff','r') as fin:\n",
      "    for i,line in enumerate(fin):\n",
      "        # more list and dict comprehensions!\n",
      "        kvs = {key:val for key,val in [kvp.split('=') for kvp in line.split() if '=' in kvp]}\n",
      "        if kvs['type'] == 'strongsubj':\n",
      "            if kvs['priorpolarity'] == 'negative':\n",
      "                negwords.add(kvs['word1'])\n",
      "            if kvs['priorpolarity'] == 'positive':\n",
      "                poswords.add(kvs['word1'])"
     ],
     "language": "python",
     "metadata": {},
     "outputs": [],
     "prompt_number": 226
    },
    {
     "cell_type": "markdown",
     "metadata": {},
     "source": [
      "The Feature Extractor object computes features for a document."
     ]
    },
    {
     "cell_type": "code",
     "collapsed": false,
     "input": [
      "class FeatureExtractor():\n",
      "    \n",
      "    def __init__(self,):\n",
      "        self.features = {}\n",
      "    \n",
      "    def bow_features(self, text):\n",
      "        w = Counter()\n",
      "        for sent in sent_tokenize(text.decode(\"utf8\")):\n",
      "            words = word_tokenize(sent)\n",
      "            w.update(words)\n",
      "        feats = { ('BOW', word) : val for word,val in w.items() } \n",
      "        return feats\n",
      "            \n",
      "    # TODO: Add RST features here\n",
      "    def rst_features(self, fileName):\n",
      "        \n",
      "        def nucleus_BOW(text):\n",
      "            nBow=defaultdict(int)\n",
      "            for word in word_tokenize(text.decode(\"utf8\")):\n",
      "                nBow[str(('Nucleus_BOW',word))]+=1\n",
      "            return dict(nBow)\n",
      "        \n",
      "        def num_Relations(NodeList):\n",
      "            relationCount=defaultdict(int)\n",
      "            for node in NodeList:\n",
      "                if node.relation is not None:\n",
      "                    relationCount[str(('Num_Relation',node.relation))]+=1\n",
      "            return dict(relationCount)\n",
      "        \n",
      "        def relation_BOW(NodeList):\n",
      "            relationBow=defaultdict(int)\n",
      "            for node in NodeList:\n",
      "                for word in word_tokenize(node.text.decode(\"utf8\")):\n",
      "                    if node.relation is not None:\n",
      "                        relationBow[str(('Relation_BOW',node.relation,word))]+=1\n",
      "            return dict(relationBow)\n",
      "        \n",
      "        def weight_relation(NodeList):\n",
      "            relationWeight= defaultdict(int)\n",
      "            for node in NodeList:\n",
      "                if node.relation is not None:\n",
      "                    relationWeight[str(('Relation_Weight',node.relation))]+=1\n",
      "            return dict(relationWeight)\n",
      "        \n",
      "        def relation_POS(NodeList):\n",
      "            relationPos= defaultdict(int)\n",
      "            for node in NodeList:\n",
      "                for sent in sent_tokenize(node.text.decode(\"utf8\")):\n",
      "                    for (word,tag) in nltk.pos_tag(sent):\n",
      "                        relationPos[str(('Relation_POS',node.relation,tag))]+=1\n",
      "            return dict(relationPos)\n",
      "        \n",
      "        def polarityNucleus(NodeList):\n",
      "            value=defaultdict(int)\n",
      "            for node in NodeList:\n",
      "                if node.prop =='Nucleus':\n",
      "                    for word in word_tokenize(node.text.decode(\"utf8\")):\n",
      "                        if word in poswords:\n",
      "                            value[str((word,'POS'))]+=1\n",
      "                        if word in negwords:\n",
      "                            value[str((word,'NEG'))]+=1\n",
      "                    break\n",
      "                    \n",
      "            return dict(value)\n",
      "                                                           \n",
      "        features={}\n",
      "        neucleus_bow={}\n",
      "        NodeList = subParseTree.getParseTreeList(fileName)\n",
      "        NodeList.reverse()\n",
      "        for node in NodeList:\n",
      "            if node.prop == 'Nucleus':\n",
      "                neucleus_bow=nucleus_BOW(node.text)\n",
      "                break\n",
      "\n",
      "        features= dict(relation_POS(NodeList).items()+weight_relation(NodeList).items()+ relation_BOW(NodeList).items()+ num_Relations(NodeList).items()+ polarityNucleus(NodeList).items()+neucleus_bow.items())\n",
      "        return features\n",
      "        \n",
      "    \n",
      "    def extract(self, review, fileName):\n",
      "        text = strip_tags(review)\n",
      "        features = self.bow_features(text)\n",
      "        #features = dict( self.rst_features(fileName).items() )\n",
      "        return features"
     ],
     "language": "python",
     "metadata": {},
     "outputs": [],
     "prompt_number": 248
    },
    {
     "cell_type": "markdown",
     "metadata": {},
     "source": [
      "Our dataset contains 50k imdb reviews. Currently we are training a Naive Bayes Classifier with 50 random reviews and testing the accuracy on 50 other randomly selected reviews. The classification task is binary - each review is either POSitive or NEGagive.  "
     ]
    },
    {
     "cell_type": "code",
     "collapsed": false,
     "input": [
      "import os\n",
      "import random\n",
      "\n",
      "DATA_DIR = 'data_sample2/'\n",
      "train_files = {'pos': [DATA_DIR + 'train/pos/' + f for f in os.listdir(DATA_DIR+'train/pos/') if 'edus' in f], \n",
      "               'neg': [DATA_DIR + 'train/neg/' + f for f in os.listdir(DATA_DIR+'train/neg/') if 'edus' in f]}\n",
      "test_files = {'pos': [DATA_DIR + 'test/pos/' + f for f in os.listdir(DATA_DIR+'test/pos/') if 'edus' in f], \n",
      "               'neg': [DATA_DIR + 'test/neg/' + f for f in os.listdir(DATA_DIR+'test/neg/') if 'edus' in f]}\n",
      "\n",
      "fet = FeatureExtractor()\n",
      "\n",
      "def generate_labelled_data( files ):\n",
      "    data = []\n",
      "    for filename in (files):\n",
      "        label = 'pos' if 'pos' in filename else 'neg'\n",
      "        f = open(filename, 'r')\n",
      "        review = f.read()\n",
      "        f.close()\n",
      "        data.append( (fet.extract(review, filename), label) )\n",
      "        print filename, label.upper(), ' | ',\n",
      "    return data"
     ],
     "language": "python",
     "metadata": {},
     "outputs": [],
     "prompt_number": 249
    },
    {
     "cell_type": "code",
     "collapsed": false,
     "input": [
      "# Generating training set\n",
      "train_set = generate_labelled_data(train_files['pos'] + train_files['neg'])"
     ],
     "language": "python",
     "metadata": {},
     "outputs": [
      {
       "output_type": "stream",
       "stream": "stdout",
       "text": [
        "data_sample2/train/pos/1044_8.edus POS  |  "
       ]
      },
      {
       "output_type": "stream",
       "stream": "stdout",
       "text": [
        "data_sample2/train/pos/11818_10.edus POS  |  "
       ]
      },
      {
       "output_type": "stream",
       "stream": "stdout",
       "text": [
        "data_sample2/train/pos/11912_10.edus POS  |  "
       ]
      },
      {
       "output_type": "stream",
       "stream": "stdout",
       "text": [
        "data_sample2/train/pos/11949_8.edus POS  |  "
       ]
      },
      {
       "output_type": "stream",
       "stream": "stdout",
       "text": [
        "data_sample2/train/pos/11979_10.edus POS  |  "
       ]
      },
      {
       "output_type": "stream",
       "stream": "stdout",
       "text": [
        "data_sample2/train/pos/12053_9.edus POS  |  "
       ]
      },
      {
       "output_type": "stream",
       "stream": "stdout",
       "text": [
        "data_sample2/train/pos/12096_8.edus POS  |  "
       ]
      },
      {
       "output_type": "stream",
       "stream": "stdout",
       "text": [
        "data_sample2/train/pos/12417_10.edus POS  |  "
       ]
      },
      {
       "output_type": "stream",
       "stream": "stdout",
       "text": [
        "data_sample2/train/pos/12486_7.edus POS  |  "
       ]
      },
      {
       "output_type": "stream",
       "stream": "stdout",
       "text": [
        "data_sample2/train/pos/1601_8.edus POS  |  "
       ]
      },
      {
       "output_type": "stream",
       "stream": "stdout",
       "text": [
        "data_sample2/train/pos/1873_8.edus POS  |  "
       ]
      },
      {
       "output_type": "stream",
       "stream": "stdout",
       "text": [
        "data_sample2/train/pos/2001_9.edus POS  |  "
       ]
      },
      {
       "output_type": "stream",
       "stream": "stdout",
       "text": [
        "data_sample2/train/pos/2116_10.edus POS  |  "
       ]
      },
      {
       "output_type": "stream",
       "stream": "stdout",
       "text": [
        "data_sample2/train/pos/2277_10.edus POS  |  "
       ]
      },
      {
       "output_type": "stream",
       "stream": "stdout",
       "text": [
        "data_sample2/train/pos/2539_10.edus POS  |  "
       ]
      },
      {
       "output_type": "stream",
       "stream": "stdout",
       "text": [
        "data_sample2/train/pos/2739_9.edus POS  |  "
       ]
      },
      {
       "output_type": "stream",
       "stream": "stdout",
       "text": [
        "data_sample2/train/pos/3009_8.edus POS  |  "
       ]
      },
      {
       "output_type": "stream",
       "stream": "stdout",
       "text": [
        "data_sample2/train/pos/328_10.edus POS  |  "
       ]
      },
      {
       "output_type": "stream",
       "stream": "stdout",
       "text": [
        "data_sample2/train/pos/3724_9.edus POS  |  "
       ]
      },
      {
       "output_type": "stream",
       "stream": "stdout",
       "text": [
        "data_sample2/train/pos/4063_8.edus POS  |  "
       ]
      },
      {
       "output_type": "stream",
       "stream": "stdout",
       "text": [
        "data_sample2/train/pos/427_10.edus POS  |  "
       ]
      },
      {
       "output_type": "stream",
       "stream": "stdout",
       "text": [
        "data_sample2/train/pos/4833_10.edus POS  |  "
       ]
      },
      {
       "output_type": "stream",
       "stream": "stdout",
       "text": [
        "data_sample2/train/pos/5025_10.edus POS  |  "
       ]
      },
      {
       "output_type": "stream",
       "stream": "stdout",
       "text": [
        "data_sample2/train/pos/5108_10.edus POS  |  "
       ]
      },
      {
       "output_type": "stream",
       "stream": "stdout",
       "text": [
        "data_sample2/train/pos/5152_9.edus POS  |  "
       ]
      },
      {
       "output_type": "stream",
       "stream": "stdout",
       "text": [
        "data_sample2/train/pos/5215_10.edus POS  |  "
       ]
      },
      {
       "output_type": "stream",
       "stream": "stdout",
       "text": [
        "data_sample2/train/pos/528_9.edus POS  |  "
       ]
      },
      {
       "output_type": "stream",
       "stream": "stdout",
       "text": [
        "data_sample2/train/pos/5515_7.edus POS  |  "
       ]
      },
      {
       "output_type": "stream",
       "stream": "stdout",
       "text": [
        "data_sample2/train/pos/5558_7.edus POS  |  "
       ]
      },
      {
       "output_type": "stream",
       "stream": "stdout",
       "text": [
        "data_sample2/train/pos/5583_8.edus POS  |  "
       ]
      },
      {
       "output_type": "stream",
       "stream": "stdout",
       "text": [
        "data_sample2/train/pos/5817_10.edus POS  |  "
       ]
      },
      {
       "output_type": "stream",
       "stream": "stdout",
       "text": [
        "data_sample2/train/pos/6228_7.edus POS  |  "
       ]
      },
      {
       "output_type": "stream",
       "stream": "stdout",
       "text": [
        "data_sample2/train/pos/6518_10.edus POS  |  "
       ]
      },
      {
       "output_type": "stream",
       "stream": "stdout",
       "text": [
        "data_sample2/train/pos/6851_8.edus POS  |  "
       ]
      },
      {
       "output_type": "stream",
       "stream": "stdout",
       "text": [
        "data_sample2/train/pos/6890_8.edus POS  |  "
       ]
      },
      {
       "output_type": "stream",
       "stream": "stdout",
       "text": [
        "data_sample2/train/pos/7203_9.edus POS  |  "
       ]
      },
      {
       "output_type": "stream",
       "stream": "stdout",
       "text": [
        "data_sample2/train/pos/7689_10.edus POS  |  "
       ]
      },
      {
       "output_type": "stream",
       "stream": "stdout",
       "text": [
        "data_sample2/train/pos/7803_10.edus POS  |  "
       ]
      },
      {
       "output_type": "stream",
       "stream": "stdout",
       "text": [
        "data_sample2/train/pos/8108_10.edus POS  |  "
       ]
      },
      {
       "output_type": "stream",
       "stream": "stdout",
       "text": [
        "data_sample2/train/pos/8241_7.edus POS  |  "
       ]
      },
      {
       "output_type": "stream",
       "stream": "stdout",
       "text": [
        "data_sample2/train/pos/8295_7.edus POS  |  "
       ]
      },
      {
       "output_type": "stream",
       "stream": "stdout",
       "text": [
        "data_sample2/train/pos/8310_10.edus POS  |  "
       ]
      },
      {
       "output_type": "stream",
       "stream": "stdout",
       "text": [
        "data_sample2/train/pos/8414_7.edus POS  |  "
       ]
      },
      {
       "output_type": "stream",
       "stream": "stdout",
       "text": [
        "data_sample2/train/pos/8649_9.edus POS  |  "
       ]
      },
      {
       "output_type": "stream",
       "stream": "stdout",
       "text": [
        "data_sample2/train/pos/8874_8.edus POS  |  "
       ]
      },
      {
       "output_type": "stream",
       "stream": "stdout",
       "text": [
        "data_sample2/train/pos/9043_7.edus POS  |  "
       ]
      },
      {
       "output_type": "stream",
       "stream": "stdout",
       "text": [
        "data_sample2/train/pos/9119_10.edus POS  |  "
       ]
      },
      {
       "output_type": "stream",
       "stream": "stdout",
       "text": [
        "data_sample2/train/pos/9839_7.edus POS  |  "
       ]
      },
      {
       "output_type": "stream",
       "stream": "stdout",
       "text": [
        "data_sample2/train/pos/9877_8.edus POS  |  "
       ]
      },
      {
       "output_type": "stream",
       "stream": "stdout",
       "text": [
        "data_sample2/train/pos/9932_8.edus POS  |  "
       ]
      },
      {
       "output_type": "stream",
       "stream": "stdout",
       "text": [
        "data_sample2/train/neg/10041_1.edus NEG  |  "
       ]
      },
      {
       "output_type": "stream",
       "stream": "stdout",
       "text": [
        "data_sample2/train/neg/10064_3.edus NEG  |  "
       ]
      },
      {
       "output_type": "stream",
       "stream": "stdout",
       "text": [
        "data_sample2/train/neg/10248_1.edus NEG  |  "
       ]
      },
      {
       "output_type": "stream",
       "stream": "stdout",
       "text": [
        "data_sample2/train/neg/1114_3.edus NEG  |  "
       ]
      },
      {
       "output_type": "stream",
       "stream": "stdout",
       "text": [
        "data_sample2/train/neg/11343_4.edus NEG  |  "
       ]
      },
      {
       "output_type": "stream",
       "stream": "stdout",
       "text": [
        "data_sample2/train/neg/1158_4.edus NEG  |  "
       ]
      },
      {
       "output_type": "stream",
       "stream": "stdout",
       "text": [
        "data_sample2/train/neg/11712_1.edus NEG  |  "
       ]
      },
      {
       "output_type": "stream",
       "stream": "stdout",
       "text": [
        "data_sample2/train/neg/11771_1.edus NEG  |  "
       ]
      },
      {
       "output_type": "stream",
       "stream": "stdout",
       "text": [
        "data_sample2/train/neg/11911_2.edus NEG  |  "
       ]
      },
      {
       "output_type": "stream",
       "stream": "stdout",
       "text": [
        "data_sample2/train/neg/11998_3.edus NEG  |  "
       ]
      },
      {
       "output_type": "stream",
       "stream": "stdout",
       "text": [
        "data_sample2/train/neg/12079_2.edus NEG  |  "
       ]
      },
      {
       "output_type": "stream",
       "stream": "stdout",
       "text": [
        "data_sample2/train/neg/12253_2.edus NEG  |  "
       ]
      },
      {
       "output_type": "stream",
       "stream": "stdout",
       "text": [
        "data_sample2/train/neg/1286_2.edus NEG  |  "
       ]
      },
      {
       "output_type": "stream",
       "stream": "stdout",
       "text": [
        "data_sample2/train/neg/1315_4.edus NEG  |  "
       ]
      },
      {
       "output_type": "stream",
       "stream": "stdout",
       "text": [
        "data_sample2/train/neg/1381_2.edus NEG  |  "
       ]
      },
      {
       "output_type": "stream",
       "stream": "stdout",
       "text": [
        "data_sample2/train/neg/162_4.edus NEG  |  "
       ]
      },
      {
       "output_type": "stream",
       "stream": "stdout",
       "text": [
        "data_sample2/train/neg/1761_1.edus NEG  |  "
       ]
      },
      {
       "output_type": "stream",
       "stream": "stdout",
       "text": [
        "data_sample2/train/neg/1789_3.edus NEG  |  "
       ]
      },
      {
       "output_type": "stream",
       "stream": "stdout",
       "text": [
        "data_sample2/train/neg/241_1.edus NEG  |  "
       ]
      },
      {
       "output_type": "stream",
       "stream": "stdout",
       "text": [
        "data_sample2/train/neg/29_4.edus NEG  |  "
       ]
      },
      {
       "output_type": "stream",
       "stream": "stdout",
       "text": [
        "data_sample2/train/neg/307_1.edus NEG  |  "
       ]
      },
      {
       "output_type": "stream",
       "stream": "stdout",
       "text": [
        "data_sample2/train/neg/3112_2.edus NEG  |  "
       ]
      },
      {
       "output_type": "stream",
       "stream": "stdout",
       "text": [
        "data_sample2/train/neg/3606_2.edus NEG  |  "
       ]
      },
      {
       "output_type": "stream",
       "stream": "stdout",
       "text": [
        "data_sample2/train/neg/3921_1.edus NEG  |  "
       ]
      },
      {
       "output_type": "stream",
       "stream": "stdout",
       "text": [
        "data_sample2/train/neg/4129_1.edus NEG  |  "
       ]
      },
      {
       "output_type": "stream",
       "stream": "stdout",
       "text": [
        "data_sample2/train/neg/4280_1.edus NEG  |  "
       ]
      },
      {
       "output_type": "stream",
       "stream": "stdout",
       "text": [
        "data_sample2/train/neg/4836_4.edus NEG  |  "
       ]
      },
      {
       "output_type": "stream",
       "stream": "stdout",
       "text": [
        "data_sample2/train/neg/5529_3.edus NEG  |  "
       ]
      },
      {
       "output_type": "stream",
       "stream": "stdout",
       "text": [
        "data_sample2/train/neg/5698_1.edus NEG  |  "
       ]
      },
      {
       "output_type": "stream",
       "stream": "stdout",
       "text": [
        "data_sample2/train/neg/5704_2.edus NEG  |  "
       ]
      },
      {
       "output_type": "stream",
       "stream": "stdout",
       "text": [
        "data_sample2/train/neg/6223_1.edus NEG  |  "
       ]
      },
      {
       "output_type": "stream",
       "stream": "stdout",
       "text": [
        "data_sample2/train/neg/6353_1.edus NEG  |  "
       ]
      },
      {
       "output_type": "stream",
       "stream": "stdout",
       "text": [
        "data_sample2/train/neg/6458_1.edus NEG  |  "
       ]
      },
      {
       "output_type": "stream",
       "stream": "stdout",
       "text": [
        "data_sample2/train/neg/6965_1.edus NEG  |  "
       ]
      },
      {
       "output_type": "stream",
       "stream": "stdout",
       "text": [
        "data_sample2/train/neg/7007_4.edus NEG  |  "
       ]
      },
      {
       "output_type": "stream",
       "stream": "stdout",
       "text": [
        "data_sample2/train/neg/7246_4.edus NEG  |  "
       ]
      },
      {
       "output_type": "stream",
       "stream": "stdout",
       "text": [
        "data_sample2/train/neg/7398_4.edus NEG  |  "
       ]
      },
      {
       "output_type": "stream",
       "stream": "stdout",
       "text": [
        "data_sample2/train/neg/7444_2.edus NEG  |  "
       ]
      },
      {
       "output_type": "stream",
       "stream": "stdout",
       "text": [
        "data_sample2/train/neg/7485_4.edus NEG  |  "
       ]
      },
      {
       "output_type": "stream",
       "stream": "stdout",
       "text": [
        "data_sample2/train/neg/7500_3.edus NEG  |  "
       ]
      },
      {
       "output_type": "stream",
       "stream": "stdout",
       "text": [
        "data_sample2/train/neg/7608_4.edus NEG  |  "
       ]
      },
      {
       "output_type": "stream",
       "stream": "stdout",
       "text": [
        "data_sample2/train/neg/7803_2.edus NEG  |  "
       ]
      },
      {
       "output_type": "stream",
       "stream": "stdout",
       "text": [
        "data_sample2/train/neg/7919_4.edus NEG  |  "
       ]
      },
      {
       "output_type": "stream",
       "stream": "stdout",
       "text": [
        "data_sample2/train/neg/8598_1.edus NEG  |  "
       ]
      },
      {
       "output_type": "stream",
       "stream": "stdout",
       "text": [
        "data_sample2/train/neg/8657_1.edus NEG  |  "
       ]
      },
      {
       "output_type": "stream",
       "stream": "stdout",
       "text": [
        "data_sample2/train/neg/8877_4.edus NEG  |  "
       ]
      },
      {
       "output_type": "stream",
       "stream": "stdout",
       "text": [
        "data_sample2/train/neg/915_4.edus NEG  |  "
       ]
      },
      {
       "output_type": "stream",
       "stream": "stdout",
       "text": [
        "data_sample2/train/neg/9462_1.edus NEG  |  "
       ]
      },
      {
       "output_type": "stream",
       "stream": "stdout",
       "text": [
        "data_sample2/train/neg/9563_3.edus NEG  |  "
       ]
      },
      {
       "output_type": "stream",
       "stream": "stdout",
       "text": [
        "data_sample2/train/neg/9647_2.edus NEG  | \n"
       ]
      }
     ],
     "prompt_number": 250
    },
    {
     "cell_type": "code",
     "collapsed": false,
     "input": [
      "# Generating test set\n",
      "test_set = generate_labelled_data(test_files['pos'] + test_files['neg'])"
     ],
     "language": "python",
     "metadata": {},
     "outputs": [
      {
       "output_type": "stream",
       "stream": "stdout",
       "text": [
        "data_sample2/test/pos/1024_9.edus POS  |  "
       ]
      },
      {
       "output_type": "stream",
       "stream": "stdout",
       "text": [
        "data_sample2/test/pos/10378_8.edus POS  |  "
       ]
      },
      {
       "output_type": "stream",
       "stream": "stdout",
       "text": [
        "data_sample2/test/pos/10401_10.edus POS  |  "
       ]
      },
      {
       "output_type": "stream",
       "stream": "stdout",
       "text": [
        "data_sample2/test/pos/11084_10.edus POS  |  "
       ]
      },
      {
       "output_type": "stream",
       "stream": "stdout",
       "text": [
        "data_sample2/test/pos/125_7.edus POS  |  "
       ]
      },
      {
       "output_type": "stream",
       "stream": "stdout",
       "text": [
        "data_sample2/test/pos/1459_10.edus POS  |  "
       ]
      },
      {
       "output_type": "stream",
       "stream": "stdout",
       "text": [
        "data_sample2/test/pos/2204_10.edus POS  |  "
       ]
      },
      {
       "output_type": "stream",
       "stream": "stdout",
       "text": [
        "data_sample2/test/pos/2441_10.edus POS  |  "
       ]
      },
      {
       "output_type": "stream",
       "stream": "stdout",
       "text": [
        "data_sample2/test/pos/2859_10.edus POS  |  "
       ]
      },
      {
       "output_type": "stream",
       "stream": "stdout",
       "text": [
        "data_sample2/test/pos/3652_10.edus POS  |  "
       ]
      },
      {
       "output_type": "stream",
       "stream": "stdout",
       "text": [
        "data_sample2/test/pos/3752_7.edus POS  |  "
       ]
      },
      {
       "output_type": "stream",
       "stream": "stdout",
       "text": [
        "data_sample2/test/pos/5115_10.edus POS  |  "
       ]
      },
      {
       "output_type": "stream",
       "stream": "stdout",
       "text": [
        "data_sample2/test/pos/6317_10.edus POS  |  "
       ]
      },
      {
       "output_type": "stream",
       "stream": "stdout",
       "text": [
        "data_sample2/test/pos/6601_9.edus POS  |  "
       ]
      },
      {
       "output_type": "stream",
       "stream": "stdout",
       "text": [
        "data_sample2/test/pos/7140_10.edus POS  |  "
       ]
      },
      {
       "output_type": "stream",
       "stream": "stdout",
       "text": [
        "data_sample2/test/pos/7360_10.edus POS  |  "
       ]
      },
      {
       "output_type": "stream",
       "stream": "stdout",
       "text": [
        "data_sample2/test/pos/7972_10.edus POS  |  "
       ]
      },
      {
       "output_type": "stream",
       "stream": "stdout",
       "text": [
        "data_sample2/test/pos/905_10.edus POS  |  "
       ]
      },
      {
       "output_type": "stream",
       "stream": "stdout",
       "text": [
        "data_sample2/test/pos/9495_8.edus POS  |  "
       ]
      },
      {
       "output_type": "stream",
       "stream": "stdout",
       "text": [
        "data_sample2/test/pos/9840_10.edus POS  |  "
       ]
      },
      {
       "output_type": "stream",
       "stream": "stdout",
       "text": [
        "data_sample2/test/neg/10792_1.edus NEG  |  "
       ]
      },
      {
       "output_type": "stream",
       "stream": "stdout",
       "text": [
        "data_sample2/test/neg/11195_1.edus NEG  |  "
       ]
      },
      {
       "output_type": "stream",
       "stream": "stdout",
       "text": [
        "data_sample2/test/neg/12424_1.edus NEG  |  "
       ]
      },
      {
       "output_type": "stream",
       "stream": "stdout",
       "text": [
        "data_sample2/test/neg/1811_1.edus NEG  |  "
       ]
      },
      {
       "output_type": "stream",
       "stream": "stdout",
       "text": [
        "data_sample2/test/neg/1929_4.edus NEG  |  "
       ]
      },
      {
       "output_type": "stream",
       "stream": "stdout",
       "text": [
        "data_sample2/test/neg/2239_4.edus NEG  |  "
       ]
      },
      {
       "output_type": "stream",
       "stream": "stdout",
       "text": [
        "data_sample2/test/neg/2365_3.edus NEG  |  "
       ]
      },
      {
       "output_type": "stream",
       "stream": "stdout",
       "text": [
        "data_sample2/test/neg/3563_4.edus NEG  |  "
       ]
      },
      {
       "output_type": "stream",
       "stream": "stdout",
       "text": [
        "data_sample2/test/neg/4954_2.edus NEG  |  "
       ]
      },
      {
       "output_type": "stream",
       "stream": "stdout",
       "text": [
        "data_sample2/test/neg/4975_1.edus NEG  |  "
       ]
      },
      {
       "output_type": "stream",
       "stream": "stdout",
       "text": [
        "data_sample2/test/neg/5246_3.edus NEG  |  "
       ]
      },
      {
       "output_type": "stream",
       "stream": "stdout",
       "text": [
        "data_sample2/test/neg/6383_3.edus NEG  |  "
       ]
      },
      {
       "output_type": "stream",
       "stream": "stdout",
       "text": [
        "data_sample2/test/neg/6604_3.edus NEG  |  "
       ]
      },
      {
       "output_type": "stream",
       "stream": "stdout",
       "text": [
        "data_sample2/test/neg/6620_1.edus NEG  |  "
       ]
      },
      {
       "output_type": "stream",
       "stream": "stdout",
       "text": [
        "data_sample2/test/neg/7223_3.edus NEG  |  "
       ]
      },
      {
       "output_type": "stream",
       "stream": "stdout",
       "text": [
        "data_sample2/test/neg/844_1.edus NEG  |  "
       ]
      },
      {
       "output_type": "stream",
       "stream": "stdout",
       "text": [
        "data_sample2/test/neg/8482_1.edus NEG  |  "
       ]
      },
      {
       "output_type": "stream",
       "stream": "stdout",
       "text": [
        "data_sample2/test/neg/8640_4.edus NEG  |  "
       ]
      },
      {
       "output_type": "stream",
       "stream": "stdout",
       "text": [
        "data_sample2/test/neg/9446_1.edus NEG  |  "
       ]
      },
      {
       "output_type": "stream",
       "stream": "stdout",
       "text": [
        "data_sample2/test/neg/9689_3.edus NEG  | \n"
       ]
      }
     ],
     "prompt_number": 251
    },
    {
     "cell_type": "markdown",
     "metadata": {},
     "source": [
      "##Training a classifier"
     ]
    },
    {
     "cell_type": "code",
     "collapsed": false,
     "input": [
      "classifier_nb = NaiveBayesClassifier.train(train_set)\n",
      "classifier_perceptron = SklearnClassifier(Perceptron()).train(train_set)"
     ],
     "language": "python",
     "metadata": {},
     "outputs": [],
     "prompt_number": 252
    },
    {
     "cell_type": "markdown",
     "metadata": {},
     "source": [
      "##Accuracy\n",
      "[We will test the accuracy of our classifier incrementally. But for now, it's pretty direct.]"
     ]
    },
    {
     "cell_type": "code",
     "collapsed": false,
     "input": [
      "print(nltk.classify.accuracy(classifier_nb, test_set))"
     ],
     "language": "python",
     "metadata": {},
     "outputs": [
      {
       "output_type": "stream",
       "stream": "stdout",
       "text": [
        "0.5\n"
       ]
      }
     ],
     "prompt_number": 253
    },
    {
     "cell_type": "code",
     "collapsed": false,
     "input": [
      "print(nltk.classify.accuracy(classifier_perceptron, test_set))"
     ],
     "language": "python",
     "metadata": {},
     "outputs": [
      {
       "output_type": "stream",
       "stream": "stdout",
       "text": [
        "0.5\n"
       ]
      }
     ],
     "prompt_number": 254
    }
   ],
   "metadata": {}
  }
 ]
}